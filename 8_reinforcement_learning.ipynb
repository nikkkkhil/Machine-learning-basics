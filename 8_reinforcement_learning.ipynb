{
  "nbformat": 4,
  "nbformat_minor": 0,
  "metadata": {
    "colab": {
      "name": "8.reinforcement_learning.ipynb",
      "version": "0.3.2",
      "provenance": [],
      "collapsed_sections": []
    },
    "kernelspec": {
      "name": "python3",
      "display_name": "Python 3"
    }
  },
  "cells": [
    {
      "cell_type": "code",
      "metadata": {
        "id": "eXNnnap-mvj6",
        "colab_type": "code",
        "outputId": "24bc9974-5ec3-420a-b1b9-2270d521288e",
        "colab": {
          "base_uri": "https://localhost:8080/",
          "height": 34
        }
      },
      "source": [
        "!apt-get update > /dev/null 2>&1\n",
        "!apt-get install cmake > /dev/null 2>&1\n",
        "!pip install --upgrade setuptools 2>&1\n",
        "!pip install ez_setup > /dev/null 2>&1\n",
        "!pip install gym[atari] > /dev/null 2>&1"
      ],
      "execution_count": 1,
      "outputs": [
        {
          "output_type": "stream",
          "text": [
            "Requirement already up-to-date: setuptools in /usr/local/lib/python3.6/dist-packages (41.0.1)\n"
          ],
          "name": "stdout"
        }
      ]
    },
    {
      "cell_type": "code",
      "metadata": {
        "id": "QEprgkonBwZc",
        "colab_type": "code",
        "colab": {}
      },
      "source": [
        "import numpy as np\n",
        "import seaborn as sns\n",
        "from pylab import rcParams\n",
        "import matplotlib.pyplot as plt\n",
        "import gym\n",
        "import math\n",
        "from matplotlib import rc\n",
        "import sys\n",
        "from contextlib import closing\n",
        "from io import StringIO\n",
        "from gym import utils\n",
        "from gym.envs.toy_text import discrete\n",
        "from gym.envs.registration import register\n",
        "import time\n",
        "from IPython.display import clear_output\n",
        "from scipy.signal import savgol_filter\n",
        "\n",
        "%matplotlib inline\n",
        "\n",
        "sns.set(style='whitegrid', palette='muted', font_scale=1.3)\n",
        "\n",
        "rcParams['figure.figsize'] = 14, 8\n",
        "\n",
        "RANDOM_SEED = 42\n",
        "\n",
        "np.random.seed(RANDOM_SEED)"
      ],
      "execution_count": 0,
      "outputs": []
    },
    {
      "cell_type": "markdown",
      "metadata": {
        "id": "L4_UapBGNtzT",
        "colab_type": "text"
      },
      "source": [
        "# Environment"
      ]
    },
    {
      "cell_type": "code",
      "metadata": {
        "id": "cg7W9NcITrPv",
        "colab_type": "code",
        "colab": {}
      },
      "source": [
        "MAP = [\n",
        "    \"+---------+\",\n",
        "    \"|R: :A: :G|\",\n",
        "    \"| : : : : |\",\n",
        "    \"| :A:A: : |\",\n",
        "    \"| : : : : |\",\n",
        "    \"|Y: :A:B: |\",\n",
        "    \"+---------+\",\n",
        "]\n",
        "\n",
        "\n",
        "class SafeCab(discrete.DiscreteEnv):\n",
        "    \"\"\"\n",
        "    Modified Taxi Problem\n",
        "    from \"Hierarchical Reinforcement Learning with the MAXQ Value Function Decomposition\"\n",
        "    by Tom Dietterich\n",
        "\n",
        "    Description:\n",
        "    There are four designated locations in the grid world indicated by R(ed), B(lue), G(reen), and Y(ellow). When the episode starts, the taxi starts off at a random square and the passenger is at a random location. The taxi drive to the passenger's location, pick up the passenger, drive to the passenger's destination (another one of the four specified locations), and then drop off the passenger. The episode ends if the taxi ends up on anomaly location. Once the passenger is dropped off, the episode ends.\n",
        "\n",
        "    Observations: \n",
        "    There are 500 discrete states since there are 25 taxi positions, 5 possible locations of the passenger (including the case when the passenger is the taxi), and 4 destination locations. \n",
        "    \n",
        "    Actions: \n",
        "    There are 6 discrete deterministic actions:\n",
        "    - 0: move south\n",
        "    - 1: move north\n",
        "    - 2: move east \n",
        "    - 3: move west \n",
        "    - 4: pickup passenger\n",
        "    - 5: dropoff passenger\n",
        "    \n",
        "    Rewards: \n",
        "    There is a reward of -1 for each action and an additional reward of +1000 for delievering the passenger. There is a reward of -10 for executing actions \"pickup\" and \"dropoff\" illegally. Interaction with an anomaly gives -1000 reward and end the episode.\n",
        "    \n",
        "\n",
        "    Rendering:\n",
        "    - blue: passenger\n",
        "    - magenta: destination\n",
        "    - yellow: empty taxi\n",
        "    - green: full taxi\n",
        "    - red: anomaly\n",
        "    - other letters (R, G, B and Y): locations for passengers and destinations\n",
        "\n",
        "    actions:\n",
        "    - 0: south\n",
        "    - 1: north\n",
        "    - 2: east\n",
        "    - 3: west\n",
        "    - 4: pickup\n",
        "    - 5: dropoff\n",
        "\n",
        "    state space is represented by:\n",
        "        (taxi_row, taxi_col, passenger_location, destination)\n",
        "    \"\"\"\n",
        "    metadata = {'render.modes': ['human', 'ansi']}\n",
        "\n",
        "    def __init__(self):\n",
        "        self.desc = np.asarray(MAP, dtype='c')\n",
        "\n",
        "        self.locs = locs = [(0,0), (0,4), (4,0), (4,3)]\n",
        "        self.anomaly_locs = [(0,2), (2,1), (2,2), (4,2)]\n",
        "\n",
        "        num_states = 500\n",
        "        num_rows = 5\n",
        "        num_columns = 5\n",
        "        max_row = num_rows - 1\n",
        "        max_col = num_columns - 1\n",
        "        initial_state_distrib = np.zeros(num_states)\n",
        "        num_actions = 6\n",
        "        P = {state: {action: []\n",
        "                     for action in range(num_actions)} for state in range(num_states)}\n",
        "        for row in range(num_rows):\n",
        "            for col in range(num_columns):\n",
        "                for pass_idx in range(len(locs) + 1):  # +1 for being inside taxi\n",
        "                    for dest_idx in range(len(locs)):\n",
        "                        state = self.encode(row, col, pass_idx, dest_idx)\n",
        "                        if pass_idx < 4 and pass_idx != dest_idx:\n",
        "                            initial_state_distrib[state] += 1\n",
        "                        for action in range(num_actions):\n",
        "                            # defaults\n",
        "                            new_row, new_col, new_pass_idx = row, col, pass_idx\n",
        "                            reward = -1 # default reward when there is no pickup/dropoff\n",
        "                            done = False\n",
        "                            taxi_loc = (row, col)\n",
        "\n",
        "                            if action == 0:\n",
        "                                new_row = min(row + 1, max_row)\n",
        "                            elif action == 1:\n",
        "                                new_row = max(row - 1, 0)\n",
        "                            if action == 2:\n",
        "                                new_col = min(col + 1, max_col)\n",
        "                            elif action == 3:\n",
        "                                new_col = max(col - 1, 0)\n",
        "                            elif action == 4:  # pickup\n",
        "                                if (pass_idx < 4 and taxi_loc == locs[pass_idx]):\n",
        "                                    new_pass_idx = 4\n",
        "                                else: # passenger not at location\n",
        "                                    reward = -10\n",
        "                            elif action == 5:  # dropoff\n",
        "                                if (taxi_loc == locs[dest_idx]) and pass_idx == 4:\n",
        "                                    new_pass_idx = dest_idx\n",
        "                                    done = True\n",
        "                                    reward = 1000\n",
        "                                elif (taxi_loc in locs) and pass_idx == 4:\n",
        "                                    new_pass_idx = locs.index(taxi_loc)\n",
        "                                else: # dropoff at wrong location\n",
        "                                    reward = -10\n",
        "                                    \n",
        "                            new_loc = (new_row, new_col)\n",
        "                            if new_loc in self.anomaly_locs:\n",
        "                              reward = -1000\n",
        "                              done = True\n",
        "                            new_state = self.encode(\n",
        "                                new_row, new_col, new_pass_idx, dest_idx)\n",
        "                            P[state][action].append(\n",
        "                                (1.0, new_state, reward, done))\n",
        "        initial_state_distrib /= initial_state_distrib.sum()\n",
        "        discrete.DiscreteEnv.__init__(\n",
        "            self, num_states, num_actions, P, initial_state_distrib)\n",
        "\n",
        "    def encode(self, taxi_row, taxi_col, pass_loc, dest_idx):\n",
        "        # (5) 5, 5, 4\n",
        "        i = taxi_row\n",
        "        i *= 5\n",
        "        i += taxi_col\n",
        "        i *= 5\n",
        "        i += pass_loc\n",
        "        i *= 4\n",
        "        i += dest_idx\n",
        "        return i\n",
        "\n",
        "    def decode(self, i):\n",
        "        out = []\n",
        "        out.append(i % 4)\n",
        "        i = i // 4\n",
        "        out.append(i % 5)\n",
        "        i = i // 5\n",
        "        out.append(i % 5)\n",
        "        i = i // 5\n",
        "        out.append(i)\n",
        "        assert 0 <= i < 5\n",
        "        return reversed(out)\n",
        "\n",
        "    def render(self, mode='human'):\n",
        "        outfile = StringIO() if mode == 'ansi' else sys.stdout\n",
        "\n",
        "        out = self.desc.copy().tolist()\n",
        "        out = [[c.decode('utf-8') for c in line] for line in out]\n",
        "        taxi_row, taxi_col, pass_idx, dest_idx = self.decode(self.s)\n",
        "        \n",
        "        def ul(x): return \"_\" if x == \" \" else x\n",
        "        \n",
        "        if pass_idx < 4:\n",
        "            out[1 + taxi_row][2 * taxi_col + 1] = utils.colorize(\n",
        "                out[1 + taxi_row][2 * taxi_col + 1], 'yellow', highlight=True)\n",
        "            pi, pj = self.locs[pass_idx]\n",
        "            out[1 + pi][2 * pj + 1] = utils.colorize(out[1 + pi][2 * pj + 1], 'blue', bold=True)\n",
        "        else:  # passenger in taxi\n",
        "            out[1 + taxi_row][2 * taxi_col + 1] = utils.colorize(\n",
        "                ul(out[1 + taxi_row][2 * taxi_col + 1]), 'green', highlight=True)\n",
        "\n",
        "        di, dj = self.locs[dest_idx]\n",
        "        out[1 + di][2 * dj + 1] = utils.colorize(out[1 + di][2 * dj + 1], 'magenta')\n",
        "        \n",
        "        for (zx, zy) in self.anomaly_locs:\n",
        "          out[1 + zx][2 * zy + 1] = utils.colorize(\n",
        "            out[1 + zx][2 * zy + 1], 'red', bold=True)\n",
        "        \n",
        "        outfile.write(\"\\n\".join([\"\".join(row) for row in out]) + \"\\n\")\n",
        "        if self.lastaction is not None:\n",
        "            outfile.write(\"  ({})\\n\".format([\"South\", \"North\", \"East\", \"West\", \"Pickup\", \"Dropoff\"][self.lastaction]))\n",
        "        else: outfile.write(\"\\n\")\n",
        "\n",
        "        # No need to return anything for human\n",
        "        if mode != 'human':\n",
        "            with closing(outfile):\n",
        "                return outfile.getvalue()\n",
        "              \n",
        "register(\n",
        "    id='SafeCab-v0',\n",
        "    entry_point=f\"{__name__}:SafeCab\",\n",
        "    timestep_limit=100,\n",
        ")"
      ],
      "execution_count": 0,
      "outputs": []
    },
    {
      "cell_type": "code",
      "metadata": {
        "id": "LpZP-vrmEFSo",
        "colab_type": "code",
        "colab": {}
      },
      "source": [
        "def print_frames(frames):\n",
        "  for i, frame in enumerate(frames):\n",
        "    clear_output(wait=True)\n",
        "    print(frame['frame'])\n",
        "    print(f\"Episode: {frame['episode']}\")\n",
        "    print(f\"Timestep: {frame['step']}\")    \n",
        "    print(f\"State: {frame['state']}\")\n",
        "    print(f\"Reward: {frame['reward']}\")\n",
        "    time.sleep(.4)"
      ],
      "execution_count": 0,
      "outputs": []
    },
    {
      "cell_type": "code",
      "metadata": {
        "id": "ScyqDf17m-7b",
        "colab_type": "code",
        "colab": {}
      },
      "source": [
        "env = gym.make('SafeCab-v0')"
      ],
      "execution_count": 0,
      "outputs": []
    },
    {
      "cell_type": "code",
      "metadata": {
        "id": "w-uiTLLwNlY-",
        "colab_type": "code",
        "colab": {
          "base_uri": "https://localhost:8080/",
          "height": 187
        },
        "outputId": "64b00ab9-7172-415f-cd76-fb6d1345d77d"
      },
      "source": [
        "env.reset()\n",
        "env.render()\n",
        "\n",
        "print(\"Action Space {}\".format(env.action_space))\n",
        "print(\"State Space {}\".format(env.observation_space))"
      ],
      "execution_count": 6,
      "outputs": [
        {
          "output_type": "stream",
          "text": [
            "+---------+\n",
            "|R: :\u001b[31;1mA\u001b[0m: :\u001b[34;1mG\u001b[0m|\n",
            "| : : : : |\n",
            "| :\u001b[31;1mA\u001b[0m:\u001b[31;1mA\u001b[0m: : |\n",
            "| : : : : |\n",
            "|\u001b[35mY\u001b[0m: :\u001b[31;1mA\u001b[0m:\u001b[43mB\u001b[0m: |\n",
            "+---------+\n",
            "\n",
            "Action Space Discrete(6)\n",
            "State Space Discrete(500)\n"
          ],
          "name": "stdout"
        }
      ]
    },
    {
      "cell_type": "code",
      "metadata": {
        "id": "nkiWPxzlmz9p",
        "colab_type": "code",
        "outputId": "367ce4f5-0989-48d5-9508-1077093a17b7",
        "colab": {
          "base_uri": "https://localhost:8080/",
          "height": 34
        }
      },
      "source": [
        "env.action_space"
      ],
      "execution_count": 7,
      "outputs": [
        {
          "output_type": "execute_result",
          "data": {
            "text/plain": [
              "Discrete(6)"
            ]
          },
          "metadata": {
            "tags": []
          },
          "execution_count": 7
        }
      ]
    },
    {
      "cell_type": "code",
      "metadata": {
        "id": "YiicmIvWvPpb",
        "colab_type": "code",
        "outputId": "02950c7a-3e24-4283-ecbb-4fae90f0c2d7",
        "colab": {
          "base_uri": "https://localhost:8080/",
          "height": 51
        }
      },
      "source": [
        "action_size = env.action_space.n\n",
        "print(\"Action size \", action_size)\n",
        "\n",
        "state_size = env.observation_space.n\n",
        "print(\"State size \", state_size)"
      ],
      "execution_count": 8,
      "outputs": [
        {
          "output_type": "stream",
          "text": [
            "Action size  6\n",
            "State size  500\n"
          ],
          "name": "stdout"
        }
      ]
    },
    {
      "cell_type": "markdown",
      "metadata": {
        "id": "2Odt8hLyN2vD",
        "colab_type": "text"
      },
      "source": [
        "# Q-Learning agent"
      ]
    },
    {
      "cell_type": "code",
      "metadata": {
        "id": "eaFQeRv-yLrO",
        "colab_type": "code",
        "colab": {}
      },
      "source": [
        "class Agent:\n",
        "  \n",
        "  def __init__(self, n_states, n_actions, decay_rate=0.0001, learning_rate=0.7, gamma=0.618):\n",
        "    self.n_actions = n_actions\n",
        "    self.q_table = np.zeros((n_states, n_actions))\n",
        "    self.epsilon = 1.0\n",
        "    self.max_epsilon = 1.0\n",
        "    self.min_epsilon = 0.01\n",
        "    self.decay_rate = decay_rate\n",
        "    self.learning_rate = learning_rate\n",
        "    self.gamma = gamma # discount rate\n",
        "    self.epsilons_ = []\n",
        "    \n",
        "  def choose_action(self, explore=True):\n",
        "    exploration_tradeoff = np.random.uniform(0, 1)\n",
        "    \n",
        "    if explore and exploration_tradeoff < self.epsilon:\n",
        "      # exploration\n",
        "      return np.random.randint(self.n_actions)    \n",
        "    else:\n",
        "      # exploitation (taking the biggest Q value for this state)\n",
        "      return np.argmax(self.q_table[state, :])\n",
        "  \n",
        "  def learn(self, state, action, reward, next_state, done, episode):\n",
        "    # Update Q(s,a):= Q(s,a) + lr [R(s,a) + gamma * max Q(s',a') - Q(s,a)]\n",
        "    self.q_table[state, action] = self.q_table[state, action] + \\\n",
        "      self.learning_rate * (reward + self.gamma * \\\n",
        "        np.max(self.q_table[new_state, :]) - self.q_table[state, action])\n",
        "    \n",
        "    if done:\n",
        "      # Reduce epsilon to decrease the exploration over time\n",
        "      self.epsilon = self.min_epsilon + (self.max_epsilon - self.min_epsilon) * \\\n",
        "        np.exp(-self.decay_rate * episode)\n",
        "      self.epsilons_.append(self.epsilon)"
      ],
      "execution_count": 0,
      "outputs": []
    },
    {
      "cell_type": "markdown",
      "metadata": {
        "id": "3pKVLCOJN5I4",
        "colab_type": "text"
      },
      "source": [
        "# Training"
      ]
    },
    {
      "cell_type": "code",
      "metadata": {
        "id": "PwJCcJ3nBS2b",
        "colab_type": "code",
        "colab": {}
      },
      "source": [
        "total_episodes = 60000\n",
        "total_test_episodes = 10\n",
        "\n",
        "agent = Agent(env.observation_space.n, env.action_space.n)"
      ],
      "execution_count": 0,
      "outputs": []
    },
    {
      "cell_type": "code",
      "metadata": {
        "id": "5WC5IrXCBXt3",
        "colab_type": "code",
        "colab": {}
      },
      "source": [
        "untrained_frames = []\n",
        "\n",
        "for episode in range(total_test_episodes):\n",
        "    state = env.reset()\n",
        "\n",
        "    step = 1\n",
        "    \n",
        "    while True:\n",
        "        action = agent.choose_action()\n",
        "        \n",
        "        new_state, reward, done, info = env.step(action)        \n",
        "        \n",
        "        untrained_frames.append({\n",
        "          'frame': env.render(mode='ansi'),\n",
        "          'state': state,\n",
        "          'episode': episode + 1,\n",
        "          'step': step,\n",
        "          'reward': reward\n",
        "        })\n",
        "        \n",
        "        if done:\n",
        "            step = 0\n",
        "            break\n",
        "        state = new_state\n",
        "        step += 1"
      ],
      "execution_count": 0,
      "outputs": []
    },
    {
      "cell_type": "code",
      "metadata": {
        "id": "-UX5vKIQD4Nd",
        "colab_type": "code",
        "colab": {
          "base_uri": "https://localhost:8080/",
          "height": 238
        },
        "outputId": "c3a5cd97-6bb7-4f85-8d12-aefa432212c8"
      },
      "source": [
        "print_frames(untrained_frames)"
      ],
      "execution_count": 12,
      "outputs": [
        {
          "output_type": "stream",
          "text": [
            "+---------+\n",
            "|R: :\u001b[31;1mA\u001b[0m: :\u001b[35mG\u001b[0m|\n",
            "| : : : : |\n",
            "| :\u001b[31;1m\u001b[43mA\u001b[0m\u001b[0m:\u001b[31;1mA\u001b[0m: : |\n",
            "| : : : : |\n",
            "|Y: :\u001b[31;1mA\u001b[0m:\u001b[34;1mB\u001b[0m: |\n",
            "+---------+\n",
            "  (Dropoff)\n",
            "\n",
            "Episode: 10\n",
            "Timestep: 1\n",
            "State: 233\n",
            "Reward: -1000\n"
          ],
          "name": "stdout"
        }
      ]
    },
    {
      "cell_type": "code",
      "metadata": {
        "id": "1DstwZEW8PQn",
        "colab_type": "code",
        "colab": {}
      },
      "source": [
        "rewards = []\n",
        "\n",
        "for episode in range(total_episodes):\n",
        "    state = env.reset()\n",
        "    episode_rewards = []\n",
        "    \n",
        "    while True:\n",
        "            \n",
        "        action = agent.choose_action()\n",
        "        \n",
        "        # Take the action (a) and observe the outcome state(s') and reward (r)\n",
        "        new_state, reward, done, info = env.step(action)\n",
        "        \n",
        "        agent.learn(state, action, reward, new_state, done, episode)\n",
        "\n",
        "        state = new_state\n",
        "        \n",
        "        episode_rewards.append(reward)\n",
        "        \n",
        "        if done == True:\n",
        "          break\n",
        "          \n",
        "    rewards.append(np.mean(episode_rewards))"
      ],
      "execution_count": 0,
      "outputs": []
    },
    {
      "cell_type": "code",
      "metadata": {
        "id": "vkxwgcSKFX1X",
        "colab_type": "code",
        "colab": {
          "base_uri": "https://localhost:8080/",
          "height": 526
        },
        "outputId": "d331a45f-4324-4bd1-b5ad-3e59a632b95a"
      },
      "source": [
        "plt.plot(savgol_filter(rewards, 1001, 2))\n",
        "plt.title(\"Smoothened training reward per episode\")\n",
        "plt.xlabel('Episode');\n",
        "plt.ylabel('Total Reward');"
      ],
      "execution_count": 14,
      "outputs": [
        {
          "output_type": "display_data",
          "data": {
            "image/png": "[encoded data removed]",
            "text/plain": [
              "<Figure size 1008x576 with 1 Axes>"
            ]
          },
          "metadata": {
            "tags": []
          }
        }
      ]
    },
    {
      "cell_type": "code",
      "metadata": {
        "id": "0jM6og93ck5a",
        "colab_type": "code",
        "colab": {
          "base_uri": "https://localhost:8080/",
          "height": 526
        },
        "outputId": "85ac2704-05d7-41b0-d336-c244bde8da7e"
      },
      "source": [
        "plt.plot(agent.epsilons_)\n",
        "plt.title(\"Epsilon for episode\")\n",
        "plt.xlabel('Episode');\n",
        "plt.ylabel('Epsilon');"
      ],
      "execution_count": 15,
      "outputs": [
        {
          "output_type": "display_data",
          "data": {
            "image/png": "[encoded data removed]",
            "text/plain": [
              "<Figure size 1008x576 with 1 Axes>"
            ]
          },
          "metadata": {
            "tags": []
          }
        }
      ]
    },
    {
      "cell_type": "markdown",
      "metadata": {
        "id": "TDQgo2Y5N7jW",
        "colab_type": "text"
      },
      "source": [
        "# Evaluation"
      ]
    },
    {
      "cell_type": "code",
      "metadata": {
        "id": "qQFHVyicAw4_",
        "colab_type": "code",
        "colab": {}
      },
      "source": [
        "frames = []\n",
        "\n",
        "rewards = []\n",
        "\n",
        "for episode in range(total_test_episodes):\n",
        "    state = env.reset()\n",
        "    episode_rewards = []\n",
        "\n",
        "    step = 1\n",
        "    \n",
        "    while True:\n",
        "        action = agent.choose_action(explore=False)\n",
        "        \n",
        "        new_state, reward, done, info = env.step(action)        \n",
        "        \n",
        "        frames.append({\n",
        "          'frame': env.render(mode='ansi'),\n",
        "          'state': state,\n",
        "          'episode': episode + 1,\n",
        "          'step': step,\n",
        "          'reward': reward\n",
        "        })\n",
        "        \n",
        "        episode_rewards.append(reward)\n",
        "        \n",
        "        if done:\n",
        "            step = 0\n",
        "            break\n",
        "        state = new_state\n",
        "        step += 1\n",
        "    \n",
        "    rewards.append(np.mean(episode_rewards))\n",
        "\n",
        "env.close()"
      ],
      "execution_count": 0,
      "outputs": []
    },
    {
      "cell_type": "code",
      "metadata": {
        "id": "YBWtJzAjItdP",
        "colab_type": "code",
        "colab": {
          "base_uri": "https://localhost:8080/",
          "height": 526
        },
        "outputId": "2a3210bd-db24-4755-a12f-465af802580d"
      },
      "source": [
        "plt.plot(rewards)\n",
        "plt.title(\"Test reward per episode\")\n",
        "plt.ylim((0, 150))\n",
        "plt.xlabel('Episode');\n",
        "plt.ylabel('Total Reward');"
      ],
      "execution_count": 17,
      "outputs": [
        {
          "output_type": "display_data",
          "data": {
            "image/png": "[encoded data removed]",
            "text/plain": [
              "<Figure size 1008x576 with 1 Axes>"
            ]
          },
          "metadata": {
            "tags": []
          }
        }
      ]
    },
    {
      "cell_type": "code",
      "metadata": {
        "id": "04A1wDm93LSm",
        "colab_type": "code",
        "outputId": "48c03f43-3c86-43a1-befb-96e7ac9c8476",
        "colab": {
          "base_uri": "https://localhost:8080/",
          "height": 238
        }
      },
      "source": [
        "print_frames(frames)"
      ],
      "execution_count": 18,
      "outputs": [
        {
          "output_type": "stream",
          "text": [
            "+---------+\n",
            "|R: :\u001b[31;1mA\u001b[0m: :\u001b[35m\u001b[34;1m\u001b[43mG\u001b[0m\u001b[0m\u001b[0m|\n",
            "| : : : : |\n",
            "| :\u001b[31;1mA\u001b[0m:\u001b[31;1mA\u001b[0m: : |\n",
            "| : : : : |\n",
            "|Y: :\u001b[31;1mA\u001b[0m:B: |\n",
            "+---------+\n",
            "  (Dropoff)\n",
            "\n",
            "Episode: 10\n",
            "Timestep: 11\n",
            "State: 97\n",
            "Reward: 1000\n"
          ],
          "name": "stdout"
        }
      ]
    }
  ]
}